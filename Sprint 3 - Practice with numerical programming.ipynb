{
 "cells": [
  {
   "cell_type": "markdown",
   "id": "06d9b061",
   "metadata": {},
   "source": [
    "# <span style=\"color:#d50283\">IT Academy - Data Science Itinerary</span>\n",
    "## Sprint 3 - Practice with numerical programming\n",
    "### Assignment by: Kat Weissman"
   ]
  },
  {
   "cell_type": "markdown",
   "id": "c1b3f8ce",
   "metadata": {},
   "source": [
    "#### Python Learning Objectives:\n",
    "- Arrays\n",
    "- Matrices\n",
    "- Functions"
   ]
  },
  {
   "cell_type": "markdown",
   "id": "6ce01116",
   "metadata": {},
   "source": [
    "*Recommended learning resources:*\n",
    "- https://www.w3schools.com/python/numpy/numpy_intro.asp"
   ]
  },
  {
   "cell_type": "markdown",
   "id": "d15fc3b7",
   "metadata": {},
   "source": [
    "### Exercise 1\n",
    "\n",
    "Create a function that, given an array of one dimension, gives you a basic statistical summary of the data. If it detects that the array has more than one dimension, it should display an error message."
   ]
  },
  {
   "cell_type": "markdown",
   "id": "8dc0493b",
   "metadata": {},
   "source": [
    "The summary function defined below displays the same summary statistics provided by the built-in R summary() function for all numeric values of the array:\n",
    "- minimum (https://numpy.org/doc/stable/reference/generated/numpy.amin.html)\n",
    "- 1st quartile (https://numpy.org/doc/stable/reference/generated/numpy.quantile.html)\n",
    "- median (https://numpy.org/doc/stable/reference/generated/numpy.median.html)\n",
    "- mean (https://numpy.org/doc/stable/reference/generated/numpy.mean.html)\n",
    "- 3rd quartile (https://numpy.org/doc/stable/reference/generated/numpy.quantile.html)\n",
    "- maximum (https://numpy.org/doc/stable/reference/generated/numpy.amax.html)"
   ]
  },
  {
   "cell_type": "code",
   "execution_count": 50,
   "id": "8ad70046",
   "metadata": {
    "ExecuteTime": {
     "end_time": "2021-09-14T08:52:19.400544Z",
     "start_time": "2021-09-14T08:52:19.382612Z"
    }
   },
   "outputs": [],
   "source": [
    "import numpy as np\n",
    "\n",
    "#Define the function to create summary statistics of a one-dimensional array.\n",
    "def summary(array):\n",
    "    \"\"\"\n",
    "    Displays summary statistics including minimum, 1st quartile, median,\n",
    "    mean, 3rd quartile, and maximum.\n",
    "    \n",
    "    Arguments:\n",
    "    array -- a one-dimensional numpy array\n",
    "    \"\"\"\n",
    "    if array.ndim == 1:\n",
    "        print (\"Minimum:\",np.amin(array))\n",
    "        print (\"1st quartile:\",np.quantile(array,0.25))\n",
    "        print (\"Median:\", np.median(array))\n",
    "        print (\"Mean:\", np.mean(array))\n",
    "        print (\"3rd quartile:\",np.quantile(array,0.75))\n",
    "        print (\"Maximum:\", np.amax(array))\n",
    "    else:\n",
    "        print (\"Error: The argument of this function must be a one-dimensional array.\")"
   ]
  },
  {
   "cell_type": "code",
   "execution_count": 51,
   "id": "762dff1e",
   "metadata": {
    "ExecuteTime": {
     "end_time": "2021-09-14T08:52:19.435646Z",
     "start_time": "2021-09-14T08:52:19.423430Z"
    }
   },
   "outputs": [
    {
     "name": "stdout",
     "output_type": "stream",
     "text": [
      "[ 3  5  5  8  9  9  9 12 18 22 24 27 58 59 83 84 85 88]\n"
     ]
    }
   ],
   "source": [
    "#Create an array of one dimension in order to test the function.\n",
    "arr = np.array([3,5,5,8,9,9,9,12,18,22,24,27,58,59,83,84,85,88])\n",
    "print (arr)"
   ]
  },
  {
   "cell_type": "code",
   "execution_count": 52,
   "id": "33534f17",
   "metadata": {
    "ExecuteTime": {
     "end_time": "2021-09-14T08:52:19.455608Z",
     "start_time": "2021-09-14T08:52:19.445191Z"
    }
   },
   "outputs": [
    {
     "name": "stdout",
     "output_type": "stream",
     "text": [
      "Minimum: 3\n",
      "1st quartile: 9.0\n",
      "Median: 20.0\n",
      "Mean: 33.77777777777778\n",
      "3rd quartile: 58.75\n",
      "Maximum: 88\n"
     ]
    }
   ],
   "source": [
    "#Test the function on a one-dimensional array\n",
    "summary(arr)"
   ]
  },
  {
   "cell_type": "code",
   "execution_count": 53,
   "id": "3269b1cd",
   "metadata": {
    "ExecuteTime": {
     "end_time": "2021-09-14T08:52:19.474656Z",
     "start_time": "2021-09-14T08:52:19.465474Z"
    }
   },
   "outputs": [
    {
     "name": "stdout",
     "output_type": "stream",
     "text": [
      "[[ 3  5  5  8  9  9  9 12 18]\n",
      " [22 24 27 58 59 83 84 85 88]]\n"
     ]
    }
   ],
   "source": [
    "#Reshape the array in order to test the function with more than one dimension.\n",
    "newarr = arr.reshape(2, 9)\n",
    "print(newarr)"
   ]
  },
  {
   "cell_type": "code",
   "execution_count": 54,
   "id": "9f0f6b0b",
   "metadata": {
    "ExecuteTime": {
     "end_time": "2021-09-14T08:52:19.491843Z",
     "start_time": "2021-09-14T08:52:19.485884Z"
    }
   },
   "outputs": [
    {
     "name": "stdout",
     "output_type": "stream",
     "text": [
      "Error: The argument of this function must be a one-dimensional array.\n"
     ]
    }
   ],
   "source": [
    "#Test the function on a two-dimensional array\n",
    "summary(newarr)"
   ]
  },
  {
   "cell_type": "markdown",
   "id": "b10495bb",
   "metadata": {},
   "source": [
    "### Exercise 2\n",
    "\n",
    "Create a function that generates an NxN square of random numbers between 0 and 100.\n",
    "\n",
    "Reference: https://www.w3schools.com/python/numpy/numpy_random.asp"
   ]
  },
  {
   "cell_type": "code",
   "execution_count": 55,
   "id": "7fa1898a",
   "metadata": {
    "ExecuteTime": {
     "end_time": "2021-09-14T08:52:19.519837Z",
     "start_time": "2021-09-14T08:52:19.513488Z"
    }
   },
   "outputs": [],
   "source": [
    "from numpy import random\n",
    "\n",
    "#Define the function to create an NxN square of random numbers between 0 and 100.\n",
    "def random_square(N):\n",
    "    \"\"\"\n",
    "    Generates and returns a numpy array which is an NxN matrix \n",
    "    of random numbers between 0 and 100.\n",
    "    \n",
    "    Arguments:\n",
    "    N -- an integer\n",
    "    \"\"\"\n",
    "    square = random.randint(100, size=(N, N))\n",
    "    return square"
   ]
  },
  {
   "cell_type": "code",
   "execution_count": 56,
   "id": "0dfd6d14",
   "metadata": {
    "ExecuteTime": {
     "end_time": "2021-09-14T08:52:19.544426Z",
     "start_time": "2021-09-14T08:52:19.538088Z"
    }
   },
   "outputs": [
    {
     "name": "stdout",
     "output_type": "stream",
     "text": [
      "[[36 87 61]\n",
      " [ 4 51 17]\n",
      " [35 38 39]]\n"
     ]
    }
   ],
   "source": [
    "#Test the function with the argument 3\n",
    "my_square = random_square(3)\n",
    "print (my_square)"
   ]
  },
  {
   "cell_type": "code",
   "execution_count": 57,
   "id": "d7802357",
   "metadata": {
    "ExecuteTime": {
     "end_time": "2021-09-14T08:52:19.563312Z",
     "start_time": "2021-09-14T08:52:19.557930Z"
    }
   },
   "outputs": [
    {
     "name": "stdout",
     "output_type": "stream",
     "text": [
      "[[31 94 81 12 88]\n",
      " [45 46 73 96  1]\n",
      " [14 84 48 60 99]\n",
      " [77 67 73 83 36]\n",
      " [61 78 50 51 87]]\n"
     ]
    }
   ],
   "source": [
    "#Test the function with the argument 5\n",
    "my_square2 = random_square(5)\n",
    "print (my_square2)"
   ]
  },
  {
   "cell_type": "markdown",
   "id": "3a70524c",
   "metadata": {},
   "source": [
    "### Exercise 3\n",
    "Create a function that given a two-dimensional table, calculates the totals per row and the totals per column."
   ]
  },
  {
   "cell_type": "code",
   "execution_count": 58,
   "id": "a1033148",
   "metadata": {
    "ExecuteTime": {
     "end_time": "2021-09-14T08:52:19.594899Z",
     "start_time": "2021-09-14T08:52:19.587100Z"
    }
   },
   "outputs": [],
   "source": [
    "#Define the function to calculate row and column totals of a two-dimensional table.\n",
    "def totals(array):\n",
    "    \"\"\"\n",
    "    Generates and returns a tuple of two numpy arrays which are \n",
    "    the row and column totals of the two-dimensional table.\n",
    "    \n",
    "    Arguments:\n",
    "    array -- a two-dimensional numpy array.\n",
    "    \"\"\"\n",
    "    if array.ndim == 2:\n",
    "        row_totals = np.sum(array, axis=1)\n",
    "        column_totals = np.sum(array, axis=0)\n",
    "        return (row_totals, column_totals)\n",
    "    else:\n",
    "        print(\"Error: The argument of this function must be a two-dimensional array.\")"
   ]
  },
  {
   "cell_type": "code",
   "execution_count": 59,
   "id": "d39321d4",
   "metadata": {
    "ExecuteTime": {
     "end_time": "2021-09-14T08:52:19.613964Z",
     "start_time": "2021-09-14T08:52:19.607827Z"
    }
   },
   "outputs": [
    {
     "name": "stdout",
     "output_type": "stream",
     "text": [
      "Error: The argument of this function must be a two-dimensional array.\n"
     ]
    }
   ],
   "source": [
    "#Test the function by assigning the results to new variables.\n",
    "#The first test generates an error because it is using a one-dimensional array.\n",
    "totals_arr = totals(arr) \n",
    "#The following tests are successful.\n",
    "totals_newarr = totals(newarr)\n",
    "totals_my_square = (totals(my_square))\n",
    "totals_my_square2 = (totals(my_square2))"
   ]
  },
  {
   "cell_type": "code",
   "execution_count": 60,
   "id": "3ee0b78d",
   "metadata": {
    "ExecuteTime": {
     "end_time": "2021-09-14T08:52:19.638349Z",
     "start_time": "2021-09-14T08:52:19.629420Z"
    },
    "scrolled": false
   },
   "outputs": [
    {
     "name": "stdout",
     "output_type": "stream",
     "text": [
      "The row totals of the array 'newarr' are: [ 78 530]\n",
      "The column totals of the array 'newarr' are: [ 25  29  32  66  68  92  93  97 106]\n",
      "The row totals of the array 'my_square' are: [184  72 112]\n",
      "The column totals of the array 'my_square' are: [ 75 176 117]\n",
      "The row totals of the array 'my_square2' are: [306 261 305 336 327]\n",
      "The column totals of the array 'my_square2' are: [228 369 325 302 311]\n"
     ]
    }
   ],
   "source": [
    "#Display the totals by calling the first and second elements of the variables, which are tuples.\n",
    "print(\"The row totals of the array 'newarr' are:\", totals_newarr[0])\n",
    "print(\"The column totals of the array 'newarr' are:\", totals_newarr[1])\n",
    "print(\"The row totals of the array 'my_square' are:\", totals_my_square[0])\n",
    "print(\"The column totals of the array 'my_square' are:\", totals_my_square[1])\n",
    "print(\"The row totals of the array 'my_square2' are:\", totals_my_square2[0])\n",
    "print(\"The column totals of the array 'my_square2' are:\", totals_my_square2[1])"
   ]
  },
  {
   "cell_type": "markdown",
   "id": "a806cb76",
   "metadata": {},
   "source": [
    "### Exercise 4\n",
    "Manually implement a function that calculates the correlation coefficient. Learn about its uses and interpretation.\n",
    "\n",
    "References: \n",
    "- https://en.wikipedia.org/wiki/Pearson_correlation_coefficient\n",
    "- https://en.wikipedia.org/wiki/Sample_mean_and_covariance\n",
    "- https://www.statisticshowto.com/probability-and-statistics/correlation-coefficient-formula/\n",
    "- https://numpy.org/doc/stable/reference/generated/numpy.corrcoef.html\n",
    "- https://numpy.org/doc/stable/reference/generated/numpy.cov.html\n",
    "- https://www.w3schools.com/datascience/ds_stat_correlation.asp\n",
    "- https://www.w3schools.com/datascience/ds_stat_correlation_matrix.asp"
   ]
  },
  {
   "cell_type": "code",
   "execution_count": 61,
   "id": "74072322",
   "metadata": {
    "ExecuteTime": {
     "end_time": "2021-09-14T08:52:19.664220Z",
     "start_time": "2021-09-14T08:52:19.659163Z"
    }
   },
   "outputs": [],
   "source": [
    "#Define the function to calculate the Pearson correlation coefficient for a sample.\n",
    "def Pearsons_r(X,Y):\n",
    "    \"\"\"\n",
    "    Generates and returns the Pearson's correlation coefficient\n",
    "    given paired data X and Y of sample size n.\n",
    "    \n",
    "    Arguments:\n",
    "    X -- a one-dimensional numpy array of size n.\n",
    "    Y -- a one-dimensional numpy array of size n.\n",
    "    \"\"\"\n",
    "    if X.ndim == 1 and Y.ndim == 1:\n",
    "        numerator = np.sum((X-np.mean(X))*(Y-np.mean(Y)))\n",
    "        denominator = np.sqrt(np.sum((X-np.mean(X))**2))*np.sqrt(np.sum((Y-np.mean(Y))**2))\n",
    "        return (numerator/denominator)\n",
    "    else:\n",
    "        print(\"Error: The arguments of this function must be two one-dimensional arrays.\")"
   ]
  },
  {
   "cell_type": "markdown",
   "id": "7c76ade9",
   "metadata": {},
   "source": [
    "The following example is taken from the website \"Statistics How To\" which explains correlation coefficient.\n",
    "\n",
    "https://www.statisticshowto.com/probability-and-statistics/correlation-coefficient-formula/#hand\n",
    "- X: an array of ages\n",
    "- Y: an array of blood glucose levels"
   ]
  },
  {
   "cell_type": "code",
   "execution_count": 62,
   "id": "cb98f961",
   "metadata": {
    "ExecuteTime": {
     "end_time": "2021-09-14T08:52:19.691535Z",
     "start_time": "2021-09-14T08:52:19.687756Z"
    }
   },
   "outputs": [],
   "source": [
    "#X values represent ages\n",
    "X = np.array([43,21,25,42,57,59])\n",
    "#Y values represent blood glucose levels\n",
    "Y = np.array([99,65,79,75,87,81])"
   ]
  },
  {
   "cell_type": "code",
   "execution_count": 63,
   "id": "189b0ec0",
   "metadata": {
    "ExecuteTime": {
     "end_time": "2021-09-14T08:52:19.715050Z",
     "start_time": "2021-09-14T08:52:19.708569Z"
    },
    "scrolled": true
   },
   "outputs": [
    {
     "data": {
      "text/plain": [
       "0.5298089018901744"
      ]
     },
     "execution_count": 63,
     "metadata": {},
     "output_type": "execute_result"
    }
   ],
   "source": [
    "#Test the function using the X and Y arrays defined previously.\n",
    "Pearsons_r(X,Y)"
   ]
  },
  {
   "cell_type": "markdown",
   "id": "39b686e1",
   "metadata": {},
   "source": [
    "Since the Pearson's correlation coefficient ranges between -1 and 1, a result of 0.5298 indicates a positive correlation."
   ]
  },
  {
   "cell_type": "markdown",
   "id": "2df72071",
   "metadata": {},
   "source": [
    "Next, I will compare the result of function that manually calculates the correlation coefficient with the NumPy function corrcoef."
   ]
  },
  {
   "cell_type": "code",
   "execution_count": 64,
   "id": "7ec3632c",
   "metadata": {
    "ExecuteTime": {
     "end_time": "2021-09-14T08:52:19.747585Z",
     "start_time": "2021-09-14T08:52:19.741731Z"
    }
   },
   "outputs": [
    {
     "data": {
      "text/plain": [
       "array([[1.       , 0.5298089],\n",
       "       [0.5298089, 1.       ]])"
      ]
     },
     "execution_count": 64,
     "metadata": {},
     "output_type": "execute_result"
    }
   ],
   "source": [
    "#Use the NumPy corrcoef function on the same arrays.\n",
    "np.corrcoef(X,Y)"
   ]
  },
  {
   "cell_type": "markdown",
   "id": "0eeec843",
   "metadata": {},
   "source": [
    "The NumPy function returns a matrix instead of a single number. The NumPy function can take a 1-D or 2-D array with multiple variables. The function I wrote only compares two variables. The diagonal values are 1 because X is perfectly correlated with itself and Y is perfectly correlated with itself. The correlation coefficient is same for (X,Y) and (Y,X) regardless of the order of the variables."
   ]
  },
  {
   "cell_type": "code",
   "execution_count": 65,
   "id": "6cec08b7",
   "metadata": {
    "ExecuteTime": {
     "end_time": "2021-09-14T08:52:19.778700Z",
     "start_time": "2021-09-14T08:52:19.770884Z"
    }
   },
   "outputs": [
    {
     "data": {
      "text/plain": [
       "array([[1.       , 0.5298089],\n",
       "       [0.5298089, 1.       ]])"
      ]
     },
     "execution_count": 65,
     "metadata": {},
     "output_type": "execute_result"
    }
   ],
   "source": [
    "#Use the NumPy corrcoef function on the same arrays in reverse order.\n",
    "np.corrcoef(Y,X)"
   ]
  },
  {
   "cell_type": "code",
   "execution_count": 66,
   "id": "e6a693b9",
   "metadata": {
    "ExecuteTime": {
     "end_time": "2021-09-14T08:52:19.798160Z",
     "start_time": "2021-09-14T08:52:19.790225Z"
    }
   },
   "outputs": [
    {
     "data": {
      "text/plain": [
       "0.5298089018901744"
      ]
     },
     "execution_count": 66,
     "metadata": {},
     "output_type": "execute_result"
    }
   ],
   "source": [
    "#Use my function on the same arrays in reverse order.\n",
    "Pearsons_r(Y,X)"
   ]
  },
  {
   "cell_type": "markdown",
   "id": "3b23088d",
   "metadata": {},
   "source": [
    "The functions behave as expected and the results match."
   ]
  }
 ],
 "metadata": {
  "kernelspec": {
   "display_name": "Python 3",
   "language": "python",
   "name": "python3"
  },
  "language_info": {
   "codemirror_mode": {
    "name": "ipython",
    "version": 3
   },
   "file_extension": ".py",
   "mimetype": "text/x-python",
   "name": "python",
   "nbconvert_exporter": "python",
   "pygments_lexer": "ipython3",
   "version": "3.8.8"
  },
  "nbTranslate": {
   "displayLangs": [
    "es",
    "en"
   ],
   "hotkey": "alt-t",
   "langInMainMenu": true,
   "sourceLang": "en",
   "targetLang": "es",
   "useGoogleTranslate": true
  },
  "varInspector": {
   "cols": {
    "lenName": 16,
    "lenType": 16,
    "lenVar": 40
   },
   "kernels_config": {
    "python": {
     "delete_cmd_postfix": "",
     "delete_cmd_prefix": "del ",
     "library": "var_list.py",
     "varRefreshCmd": "print(var_dic_list())"
    },
    "r": {
     "delete_cmd_postfix": ") ",
     "delete_cmd_prefix": "rm(",
     "library": "var_list.r",
     "varRefreshCmd": "cat(var_dic_list()) "
    }
   },
   "types_to_exclude": [
    "module",
    "function",
    "builtin_function_or_method",
    "instance",
    "_Feature"
   ],
   "window_display": false
  }
 },
 "nbformat": 4,
 "nbformat_minor": 5
}
